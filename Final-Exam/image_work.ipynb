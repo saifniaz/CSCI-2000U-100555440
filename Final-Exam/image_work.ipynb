{
 "cells": [
  {
   "cell_type": "code",
   "execution_count": 1,
   "metadata": {
    "collapsed": true
   },
   "outputs": [],
   "source": [
    "%matplotlib inlinen"
   ]
  },
  {
   "cell_type": "code",
   "execution_count": 3,
   "metadata": {
    "collapsed": true
   },
   "outputs": [],
   "source": [
    "import matplotlib.pyplot as plt\n",
    "import numpy as np"
   ]
  },
  {
   "cell_type": "code",
   "execution_count": 2,
   "metadata": {
    "collapsed": false
   },
   "outputs": [
    {
     "name": "stdout",
     "output_type": "stream",
     "text": [
      "287677\n"
     ]
    }
   ],
   "source": [
    "with open('peppers.png', 'rb') as file:\n",
    "    rgd_peppers = file.read()\n",
    "    print(len(rdg_peppers))\n",
    "    x = []\n",
    "    y = [] \n",
    "    z = []\n",
    "    j == 0\n",
    "    for i in rgd_peppers:\n",
    "        if(j < floor(i/256)):\n",
    "            x.append(i)\n",
    "            j+=1\n",
    "        elif(j <= floor(i/300)):\n",
    "            y.append(i)\n",
    "            j +=1\n",
    "        elif(j <= floor(i/3)):\n",
    "            z.append(i)\n",
    "            j+=1\n",
    "\n",
    "hist, bins = np.histogram(v_halo, bins = 50)\n",
    "width = 0.7 * (bins[1] - bins[0])\n",
    "center = (bins[:-1] + bins[1:]) / 2\n",
    "plt.bar(center, hist, width=width, color= 'black')\n",
    "plt.ylabel('Velocity')\n",
    "plt.title('Velocity histogram (halo) 100555440')\n",
    "plt.show()\n",
    "    \n",
    "    \n",
    "    \n",
    "    \n",
    "    "
   ]
  },
  {
   "cell_type": "code",
   "execution_count": null,
   "metadata": {
    "collapsed": true
   },
   "outputs": [],
   "source": []
  }
 ],
 "metadata": {
  "kernelspec": {
   "display_name": "Python 3",
   "language": "python",
   "name": "python3"
  },
  "language_info": {
   "codemirror_mode": {
    "name": "ipython",
    "version": 3
   },
   "file_extension": ".py",
   "mimetype": "text/x-python",
   "name": "python",
   "nbconvert_exporter": "python",
   "pygments_lexer": "ipython3",
   "version": "3.4.3"
  }
 },
 "nbformat": 4,
 "nbformat_minor": 0
}
