{
 "cells": [
  {
   "cell_type": "code",
   "execution_count": null,
   "metadata": {
    "collapsed": false
   },
   "outputs": [],
   "source": [
    "import matplotlib.pyplot as plt\n",
    "labels = 'USA', 'CHN' , 'GBR', 'RUS', 'KOR', 'GER', 'FRA', 'ITA', 'HUN', 'AUS', 'OTHER'\n",
    "size = [46, 38, 29, 24, 13, 11, 11, 8, 8, 7, 107]\n",
    "colors = ['yellowgreen', 'red', 'lightblue', 'green', 'pink', 'orange', 'yellow', 'purple', 'blue', 'violet', 'gold']\n",
    "\n",
    "plt.pie(size, labels=labels, colors = colors, autopct='%1.1f%%', shadow=False, startangle=90)\n",
    "plt.axis('equal')\n",
    "plt.title('2012 Olympic gold medals (100555440)')\n",
    "\n",
    "plt.show()"
   ]
  },
  {
   "cell_type": "code",
   "execution_count": null,
   "metadata": {
    "collapsed": true
   },
   "outputs": [],
   "source": []
  }
 ],
 "metadata": {
  "kernelspec": {
   "display_name": "Python 3",
   "language": "python",
   "name": "python3"
  },
  "language_info": {
   "codemirror_mode": {
    "name": "ipython",
    "version": 3
   },
   "file_extension": ".py",
   "mimetype": "text/x-python",
   "name": "python",
   "nbconvert_exporter": "python",
   "pygments_lexer": "ipython3",
   "version": "3.4.3"
  }
 },
 "nbformat": 4,
 "nbformat_minor": 0
}
