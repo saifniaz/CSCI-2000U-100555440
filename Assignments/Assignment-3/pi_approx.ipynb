{
 "cells": [
  {
   "cell_type": "code",
   "execution_count": 16,
   "metadata": {
    "collapsed": false
   },
   "outputs": [
    {
     "name": "stdout",
     "output_type": "stream",
     "text": [
      "When n = 10 , rho_n =  3.0418396189294032\n",
      "When n = 10 , tau_n =  3.04936163598207\n",
      "When n = 10 , mu_n =  3.1413846224669713\n",
      "When n = 100 , rho_n =  3.1315929035585537\n",
      "When n = 100 , tau_n =  3.1320765318091053\n",
      "When n = 100 , mu_n =  3.1415924153073678\n",
      "When n = 1000 , rho_n =  3.140592653839794\n",
      "When n = 1000 , tau_n =  3.1406380562059946\n",
      "When n = 1000 , mu_n =  3.1415926533482703\n",
      "When n = 10000 , rho_n =  3.1414926535900345\n",
      "When n = 10000 , tau_n =  3.1414971639472147\n",
      "When n = 10000 , mu_n =  3.141592653589592\n",
      "When n = 100000 , rho_n =  3.1415826535897198\n",
      "When n = 100000 , tau_n =  3.141583104326456\n",
      "When n = 100000 , mu_n =  3.141592653589592\n",
      "When n = 1000000 , rho_n =  3.1415916535897743\n",
      "When n = 1000000 , tau_n =  3.1415916986605086\n",
      "When n = 1000000 , mu_n =  3.141592653589592\n"
     ]
    }
   ],
   "source": [
    "import numpy as np\n",
    "\n",
    "n = np.array([10, 100, 1000, 10000, 100000, 1000000], int)\n",
    "\n",
    "def func(n):\n",
    "    #Calculate Rho\n",
    "    sum_rho= 0.0\n",
    "    for i in range(1, n+1):\n",
    "        sum_rho = sum_rho + (((-1)**(i + 1))/((2*i)-1)) \n",
    "    rho_n = 4*sum_rho\n",
    "    print('When n =', n, ', rho_n = ', rho_n)\n",
    "    \n",
    "    #Calculate Ta\n",
    "    sum_tau= 0.0\n",
    "    for i in range(1, n+1):\n",
    "        sum_tau = sum_tau + (1/(i**2)) \n",
    "    tau_n = (6*(sum_tau))**(1/2)\n",
    "    print('When n =', n, ', tau_n = ', tau_n)\n",
    "    \n",
    "    #Calculate Mu\n",
    "    sum_mu = 0.0\n",
    "    for i in range(1, n+1):\n",
    "        sum_mu = sum_mu + (1/(i**4)) \n",
    "    mu_n = (90*(sum_mu))**(1/4)\n",
    "    print('When n =', n, ', mu_n = ', mu_n)\n",
    "\n",
    "for x in n:\n",
    "    func(x)"
   ]
  },
  {
   "cell_type": "code",
   "execution_count": null,
   "metadata": {
    "collapsed": true
   },
   "outputs": [],
   "source": []
  }
 ],
 "metadata": {
  "kernelspec": {
   "display_name": "Python 3",
   "language": "python",
   "name": "python3"
  },
  "language_info": {
   "codemirror_mode": {
    "name": "ipython",
    "version": 3
   },
   "file_extension": ".py",
   "mimetype": "text/x-python",
   "name": "python",
   "nbconvert_exporter": "python",
   "pygments_lexer": "ipython3",
   "version": "3.4.3"
  }
 },
 "nbformat": 4,
 "nbformat_minor": 0
}
