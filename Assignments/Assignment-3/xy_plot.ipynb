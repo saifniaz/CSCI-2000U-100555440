{
 "cells": [
  {
   "cell_type": "code",
   "execution_count": 1,
   "metadata": {
    "collapsed": true
   },
   "outputs": [],
   "source": [
    "import numpy as np\n",
    "import matplotlib.pyplot as plt\n",
    "\n",
    "x = []\n",
    "y = []\n",
    "vec = (x, y)\n",
    "a = 0\n",
    "reader = open(\"xy_points.dat\")\n",
    "for line in reader:\n",
    "    data = line.split()\n",
    "    vec[a].append(data)\n",
    "    a = a + 1    \n",
    "#x1= x[-10, -2]\n",
    "#print(x.nonzero()[0])\n",
    "#print(y[y <= 0])\n",
    "\n",
    "plt.scatter(x, y, cmap=plt.cm.cool, edgecolors='red', alpha=0.75)\n",
    "plt.xlim(-10, 10)\n",
    "plt.ylim(-10, 10)\n",
    "plt.title(\"Highlighted points (100555440)\")\n",
    "plt.show()"
   ]
  },
  {
   "cell_type": "code",
   "execution_count": null,
   "metadata": {
    "collapsed": true
   },
   "outputs": [],
   "source": []
  }
 ],
 "metadata": {
  "kernelspec": {
   "display_name": "Python 3",
   "language": "python",
   "name": "python3"
  },
  "language_info": {
   "codemirror_mode": {
    "name": "ipython",
    "version": 3
   },
   "file_extension": ".py",
   "mimetype": "text/x-python",
   "name": "python",
   "nbconvert_exporter": "python",
   "pygments_lexer": "ipython3",
   "version": "3.4.3"
  }
 },
 "nbformat": 4,
 "nbformat_minor": 0
}
