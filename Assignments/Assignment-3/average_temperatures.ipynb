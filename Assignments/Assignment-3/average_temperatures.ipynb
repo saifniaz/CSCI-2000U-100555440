{
 "cells": [
  {
   "cell_type": "code",
   "execution_count": 13,
   "metadata": {
    "collapsed": false
   },
   "outputs": [],
   "source": [
    "import numpy as np\n",
    "import matplotlib.pyplot as plt\n",
    "\n",
    "m = []\n",
    "t = []\n",
    "v = []\n",
    "\n",
    "labels = ['jan']\n",
    "\n",
    "with open('montreal_temperature_2012.dat') as f:\n",
    "    for line in f:\n",
    "        data = line.split()\n",
    "        m.append(data)\n",
    "        \n",
    "\n",
    "with open('toronto_temperature_2012.dat') as f1:\n",
    "    for line1 in f1:\n",
    "        data1 = line1.split()\n",
    "        t.append(data1)\n",
    "        \n",
    "with open('vancouver_temperature_2012.dat') as f2:\n",
    "    for line2 in f2:\n",
    "        data2 = line2.split()\n",
    "        v.append(data2)\n",
    "\n",
    "x = np.array(range(1, 13), int)\n",
    "months = ['Jan', 'Feb', 'Mar', 'Apr', 'May', 'Jun', 'Jul', 'Aug', 'Sep', 'Oct', 'Nov', 'Dec']\n",
    "\n",
    "plt.plot(x, m, 'r', linewidth = 1, label = 'Montreal')\n",
    "plt.plot(x, t, 'g', linewidth = 1, label = 'Toronto')\n",
    "plt.plot(x, v, 'b', linewidth = 1, label = 'Vancouver')\n",
    "plt.ylabel('Tempereature in Celcius')\n",
    "plt.xlabel('Month of Year')\n",
    "plt.xlim(1, 12)\n",
    "plt.xticks(x, months)\n",
    "plt.title('2012 average monthly temperatures (100555440)')\n",
    "plt.show()"
   ]
  },
  {
   "cell_type": "code",
   "execution_count": null,
   "metadata": {
    "collapsed": true
   },
   "outputs": [],
   "source": []
  }
 ],
 "metadata": {
  "kernelspec": {
   "display_name": "Python 3",
   "language": "python",
   "name": "python3"
  },
  "language_info": {
   "codemirror_mode": {
    "name": "ipython",
    "version": 3
   },
   "file_extension": ".py",
   "mimetype": "text/x-python",
   "name": "python",
   "nbconvert_exporter": "python",
   "pygments_lexer": "ipython3",
   "version": "3.4.3"
  }
 },
 "nbformat": 4,
 "nbformat_minor": 0
}
