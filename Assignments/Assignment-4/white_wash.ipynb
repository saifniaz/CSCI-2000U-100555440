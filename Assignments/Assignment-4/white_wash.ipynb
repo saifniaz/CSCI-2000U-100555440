{
 "cells": [
  {
   "cell_type": "code",
   "execution_count": 22,
   "metadata": {
    "collapsed": false
   },
   "outputs": [
    {
     "name": "stdout",
     "output_type": "stream",
     "text": [
      "[[ 0.70885175  0.77637726  0.87817196]\n",
      " [ 0.7099792   0.83792703  0.21081394]]\n",
      "[[ 0.85442587  0.88818863  0.93908598]\n",
      " [ 0.8549896   0.91896351  0.60540697]]\n"
     ]
    }
   ],
   "source": [
    "#MD. Saif Niaz\n",
    "#ID: 100555440\n",
    "\n",
    "import numpy as np\n",
    "import matplotlib.pyplot as plt\n",
    "\n",
    "data = np.random.rand(2,3)\n",
    "\n",
    "def WhiteWash(c):\n",
    "    white =  np.ones_like(c)\n",
    "    temp1 = ((c + white)/2)\n",
    "    return temp1\n",
    "\n",
    "print(data)\n",
    "temp = WhiteWash(data)\n",
    "print(temp)\n",
    "\n",
    "#Just to check if colormap works\n",
    "#plt.imshow(data)\n",
    "#plt.imshow(temp)\n",
    "\n",
    "#plt.show()"
   ]
  },
  {
   "cell_type": "code",
   "execution_count": null,
   "metadata": {
    "collapsed": true
   },
   "outputs": [],
   "source": []
  }
 ],
 "metadata": {
  "kernelspec": {
   "display_name": "Python 3",
   "language": "python",
   "name": "python3"
  },
  "language_info": {
   "codemirror_mode": {
    "name": "ipython",
    "version": 3
   },
   "file_extension": ".py",
   "mimetype": "text/x-python",
   "name": "python",
   "nbconvert_exporter": "python",
   "pygments_lexer": "ipython3",
   "version": "3.4.3"
  }
 },
 "nbformat": 4,
 "nbformat_minor": 0
}
