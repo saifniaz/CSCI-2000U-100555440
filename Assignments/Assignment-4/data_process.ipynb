{
 "cells": [
  {
   "cell_type": "code",
   "execution_count": 1,
   "metadata": {
    "collapsed": true
   },
   "outputs": [],
   "source": [
    "# MD. Saif Niaz\n",
    "# ID# 100555440\n",
    "from struct import *\n",
    "import math as math\n",
    "import matplotlib.pyplot as plt\n",
    "import numpy as np\n",
    "\n",
    "with open('halo.dat', 'rb') as file:\n",
    "    N_halo = file.readline()\n",
    "    T_halo = file.readline()\n",
    "    data_halo = file.read()\n",
    "    \n",
    "    count_N = len(N_halo)\n",
    "    count_T = len(T_halo)\n",
    "    count_data = len(data_halo)\n",
    "    \n",
    "    unpacked_N = unpack(\"i\"*(math.floor(count_N/4)), N_halo[:(-1*(count_N%4))])\n",
    "    unpacked_T = unpack(\"d\"*(math.floor(count_T/8)), T_halo[:(-1*(count_T%8))])\n",
    "    unpacked_data = unpack(\"i\" * (math.floor((count_data)/ 4)), data_halo[:])\n",
    "    vx = []\n",
    "    vy = []\n",
    "    vz = []\n",
    "    v_halo = []\n",
    "    count = len(unpacked_data)\n",
    "    \n",
    "    i = 0\n",
    "    for j in unpacked_data:\n",
    "        if(i == 401661):\n",
    "            break\n",
    "        elif(i%3 == 0):\n",
    "            vx.append(j)\n",
    "            i = i + 1\n",
    "        elif(i%3 == 1):\n",
    "            vy.append(j)\n",
    "            i = i + 1\n",
    "        elif(i%3 == 2):\n",
    "            vz.append(j)\n",
    "            i = i + 1\n",
    "    k = 0    \n",
    "    while k < (i//3):\n",
    "        v_halo.append(math.sqrt((vx[k]**2) + (vy[k]**2) + (vz[k]**2)))\n",
    "        k = k + 1\n",
    "\n",
    "hist, bins = np.histogram(v_halo, bins = 50)\n",
    "width = 0.7 * (bins[1] - bins[0])\n",
    "center = (bins[:-1] + bins[1:]) / 2\n",
    "plt.bar(center, hist, width=width, color= 'black')\n",
    "plt.ylabel('Velocity')\n",
    "plt.title('Velocity histogram (halo) 100555440')\n",
    "plt.show()"
   ]
  },
  {
   "cell_type": "code",
   "execution_count": 2,
   "metadata": {
    "collapsed": true
   },
   "outputs": [],
   "source": [
    "with open('snapshot_010.dat', 'rb') as file: # b is important -> bina\n",
    "    N_010 = file.readline()\n",
    "    T_010 = file.readline()\n",
    "    data_010 = file.read()\n",
    "    \n",
    "    count_N = len(N_010)\n",
    "    count_T = len(T_010)\n",
    "    count_data = len(data_010)\n",
    "    \n",
    "    unpacked_N = unpack(\"i\"*(math.floor(count_N/4)), N_010[:(-1*(count_N%4))])\n",
    "    unpacked_T = unpack(\"d\"*(math.floor(count_T/8)), T_010[:(-1*(count_T%8))])\n",
    "    unpacked_data = unpack(\"i\" * (math.floor((count_data)/ 4)), data_010[:(-1*(count_data%4))])\n",
    "    vx = []\n",
    "    vy = []\n",
    "    vz = []\n",
    "    v_010 = []\n",
    "    \n",
    "    i = 0\n",
    "    for j in unpacked_data:\n",
    "        if(i == (math.floor((count_data)/ 4))):\n",
    "            break\n",
    "        elif(i%3 == 0):\n",
    "            vx.append(j)\n",
    "            i = i + 1\n",
    "        elif(i%3 == 1):\n",
    "            vy.append(j)\n",
    "            i = i + 1\n",
    "        elif(i%3 == 2):\n",
    "            vz.append(j)\n",
    "            i = i + 1\n",
    "    k = 0    \n",
    "    while k < (i/3):\n",
    "        v_010.append(math.sqrt((vx[k]**2) + (vy[k]**2) + (vz[k]**2)))\n",
    "        k = k + 1\n",
    "\n",
    "hist, bins = np.histogram(v_010, bins = 50)\n",
    "width = 0.7 * (bins[1] - bins[0])\n",
    "center = (bins[:-1] + bins[1:]) / 2\n",
    "plt.bar(center, hist, width=width, color= 'black')\n",
    "plt.ylabel('Velocity')\n",
    "plt.title('Velocity histogram (halo) 100555440')\n",
    "plt.show()"
   ]
  },
  {
   "cell_type": "code",
   "execution_count": null,
   "metadata": {
    "collapsed": true
   },
   "outputs": [],
   "source": []
  }
 ],
 "metadata": {
  "kernelspec": {
   "display_name": "Python 3",
   "language": "python",
   "name": "python3"
  },
  "language_info": {
   "codemirror_mode": {
    "name": "ipython",
    "version": 3
   },
   "file_extension": ".py",
   "mimetype": "text/x-python",
   "name": "python",
   "nbconvert_exporter": "python",
   "pygments_lexer": "ipython3",
   "version": "3.4.3"
  }
 },
 "nbformat": 4,
 "nbformat_minor": 0
}
